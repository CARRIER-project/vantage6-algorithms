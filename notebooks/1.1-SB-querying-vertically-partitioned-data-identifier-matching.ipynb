{
 "cells": [
  {
   "cell_type": "markdown",
   "metadata": {},
   "source": [
    "# Quering vertically partitioned data as if it is one dataset with identifier matching\n",
    "Here we explore whether we can query a vertically partitioned dataset (i.e. datasets share the same sample ID space, but sample feature space is split across datasets) as if it was one dataset.\n",
    "We make quite strong assumptions:\n",
    "    * Data is tabular and consists of only 1 table\n",
    "        (i.e. only one type of subject, and predicate-object pairs are properties)\n",
    "    * We expect the values of the identifying predicates to be in the same format (i.e <http://www.w3.org/2001/XMLSchema#date> for birtdates).\n",
    "    * Users want to have all the data\n",
    "    \n",
    "But: compared to notebooks/1.0-SB-querying-vertically-partitioned-data-simplest-case.ipynb now we have data with differently mapped identifiers."
   ]
  },
  {
   "cell_type": "code",
   "execution_count": 35,
   "metadata": {},
   "outputs": [],
   "source": [
    "from collections import defaultdict\n",
    "from typing import List\n",
    "\n",
    "import rdflib\n",
    "import pandas as pd"
   ]
  },
  {
   "cell_type": "markdown",
   "metadata": {},
   "source": [
    "## Load sample person data A\n",
    "Data is specified using the w3.org vcard ontology and apart from our identifiers full name and birthday also includes a nickname and email (our features)"
   ]
  },
  {
   "cell_type": "code",
   "execution_count": 3,
   "metadata": {},
   "outputs": [
    {
     "name": "stdout",
     "output_type": "stream",
     "text": [
      "@prefix v: <http://www.w3.org/2006/vcard/ns#> .\n",
      "@prefix xsd: <http://www.w3.org/2001/XMLSchema#> .\n",
      "\n",
      "<http://example.com/me/corky> a v:VCard ;\n",
      "    v:bday \"2013-01-01\"^^xsd:date ;\n",
      "    v:email <mailto:corky@example.com> ;\n",
      "    v:fn \"Corky Crystal\" ;\n",
      "    v:nickname \"Corks\" .\n",
      "\n",
      "<http://example.com/me/vinko> a v:VCard ;\n",
      "    v:bday \"2001-02-02\"^^xsd:date ;\n",
      "    v:email <mailto:vinko@example.com> ;\n",
      "    v:fn \"Vinko Vork\" ;\n",
      "    v:nickname \"Vinker\" .\n",
      "\n",
      "\n"
     ]
    }
   ],
   "source": [
    "data = '''\n",
    "  @prefix v:  <http://www.w3.org/2006/vcard/ns#> .\n",
    "  @prefix xsd: <http://www.w3.org/2001/XMLSchema#> .\n",
    "\n",
    "  <http://example.com/me/corky> a v:VCard ;\n",
    "     v:fn \"Corky Crystal\" ;\n",
    "     v:nickname \"Corks\" ;\n",
    "     v:email  <mailto:corky@example.com> ;\n",
    "     v:bday \"2013-01-01\"^^xsd:date ; .\n",
    "\n",
    "  <http://example.com/me/vinko> a v:VCard ;\n",
    "     v:fn \"Vinko Vork\" ;\n",
    "     v:nickname \"Vinker\" ;\n",
    "     v:email  <mailto:vinko@example.com> ;\n",
    "     v:bday \"2001-02-02\"^^xsd:date ; .\n",
    "\n",
    "'''\n",
    "graph_a = rdflib.Graph()\n",
    "result = graph_a.parse(data=data, format='ttl')\n",
    "print(graph_a.serialize(format=\"turtle\").decode(\"utf-8\"))"
   ]
  },
  {
   "cell_type": "markdown",
   "metadata": {},
   "source": [
    "## Load sample person data B\n",
    "Data is specified using the dbpedia ontology and apart from our identifiers full name and birthday also includes a deathdate (our only feature in this dataset)"
   ]
  },
  {
   "cell_type": "code",
   "execution_count": 9,
   "metadata": {},
   "outputs": [
    {
     "name": "stdout",
     "output_type": "stream",
     "text": [
      "@prefix dbo: <http://dbpedia.org/ontology#> .\n",
      "@prefix xsd: <http://www.w3.org/2001/XMLSchema#> .\n",
      "\n",
      "<http://example.com/1> a dbo:Person ;\n",
      "    dbo:birthDate \"2013-01-01\"^^xsd:date ;\n",
      "    dbo:deathDate \"2020-03-03\"^^xsd:date ;\n",
      "    dbo:name \"Corky Crystal\" .\n",
      "\n",
      "<http://example.com/2> a dbo:Person ;\n",
      "    dbo:birthDate \"2001-02-02\"^^xsd:date ;\n",
      "    dbo:deathDate \"2020-03-03\"^^xsd:date ;\n",
      "    dbo:name \"Vinko Vork\" .\n",
      "\n",
      "\n"
     ]
    }
   ],
   "source": [
    "data = '''\n",
    "  @prefix dbo: <http://dbpedia.org/ontology#> .\n",
    "  @prefix xsd: <http://www.w3.org/2001/XMLSchema#> .\n",
    "\n",
    "  <http://example.com/1> a dbo:Person ;\n",
    "     dbo:name \"Corky Crystal\" ;\n",
    "     dbo:birthDate \"2013-01-01\"^^xsd:date ;\n",
    "     dbo:deathDate \"2020-03-03\"^^xsd:date ; .\n",
    "\n",
    "  <http://example.com/2> a dbo:Person ;\n",
    "     dbo:name \"Vinko Vork\" ;\n",
    "     dbo:birthDate \"2001-02-02\"^^xsd:date ;\n",
    "     dbo:deathDate \"2020-03-03\"^^xsd:date ; .\n",
    "'''\n",
    "graph_b = rdflib.Graph()\n",
    "result = graph_b.parse(data=data, format='ttl')\n",
    "print(graph_b.serialize(format=\"turtle\").decode(\"utf-8\"))"
   ]
  },
  {
   "cell_type": "code",
   "execution_count": 37,
   "metadata": {},
   "outputs": [],
   "source": [
    "class VerticalQueryClient():\n",
    "    \"\"\"\n",
    "    Client for querying a vertically partitioned dataset.\n",
    "    Makes some strong assumptions:\n",
    "    * Data is tabular and consists of only 1 table\n",
    "        (i.e. only one type of subject, and predicate-object pairs are properties)\n",
    "    * The subject name itself is a unique identifier across data sources\n",
    "    \"\"\"\n",
    "    def __init__(self, left_graph: rdflib.Graph, right_graph: rdflib.Graph):\n",
    "        self.left_graph, self.right_graph = left_graph, right_graph\n",
    "        \n",
    "    @staticmethod\n",
    "    def _sparql_to_pandas(result):\n",
    "        \"\"\"\n",
    "        Convert sparql result to pandas. Group all properties (predicate-object pairs)\n",
    "        for corresponding subject. Set subject as index.\n",
    "        \"\"\"\n",
    "        subject2property = defaultdict(dict)\n",
    "        for s, p, o in result:\n",
    "            subject2property[str(s)][str(p)] = o\n",
    "\n",
    "        data = list()\n",
    "        for subj, properties in subject2property.items():\n",
    "            properties['subj'] = subj\n",
    "            data.append(properties)\n",
    "        df = pd.DataFrame(data)\n",
    "        df = df.set_index('subj', drop=True)\n",
    "        return df\n",
    "\n",
    "    def query(self, left_on: List[str], right_on: List[str]):\n",
    "        \"\"\"\n",
    "        Query vertically partitioned data. Select all data from different data sources.\n",
    "        Convert data to pandas DataFrame by grouping all properties (predicate-object pairs) for\n",
    "        corresponding subjects even though they might come from different data sources. User should\n",
    "        specify on which predicates data should be merged.\n",
    "        \n",
    "        Args:\n",
    "            left_on: merge left graph on these predicates (order matters!)\n",
    "            right_on: merge right graph on these predicates (order matters!)\n",
    "        \"\"\"\n",
    "        q = '''\n",
    "            SELECT ?s ?p ?o\n",
    "            WHERE {?s ?p ?o .}\n",
    "        '''\n",
    "        result = self.left_graph.query(q)\n",
    "        left_df = self._sparql_to_pandas(result)\n",
    "        \n",
    "        result = self.right_graph.query(q)\n",
    "        right_df = self._sparql_to_pandas(result)\n",
    "        return pd.merge(left_df, right_df, left_on=left_on, right_on=right_on)"
   ]
  },
  {
   "cell_type": "code",
   "execution_count": 38,
   "metadata": {},
   "outputs": [],
   "source": [
    "client = VerticalQueryClient(left_graph=graph_a, right_graph=graph_b)"
   ]
  },
  {
   "cell_type": "markdown",
   "metadata": {},
   "source": [
    "Now we query our vertically positioned dataset by providing the predicates that we want to merge on (i.e. name and birthday, but mapped onto different ontologies)"
   ]
  },
  {
   "cell_type": "code",
   "execution_count": 39,
   "metadata": {},
   "outputs": [
    {
     "data": {
      "text/html": [
       "<div>\n",
       "<style scoped>\n",
       "    .dataframe tbody tr th:only-of-type {\n",
       "        vertical-align: middle;\n",
       "    }\n",
       "\n",
       "    .dataframe tbody tr th {\n",
       "        vertical-align: top;\n",
       "    }\n",
       "\n",
       "    .dataframe thead th {\n",
       "        text-align: right;\n",
       "    }\n",
       "</style>\n",
       "<table border=\"1\" class=\"dataframe\">\n",
       "  <thead>\n",
       "    <tr style=\"text-align: right;\">\n",
       "      <th></th>\n",
       "      <th>http://www.w3.org/2006/vcard/ns#nickname</th>\n",
       "      <th>http://www.w3.org/2006/vcard/ns#bday</th>\n",
       "      <th>http://www.w3.org/1999/02/22-rdf-syntax-ns#type_x</th>\n",
       "      <th>http://www.w3.org/2006/vcard/ns#email</th>\n",
       "      <th>http://www.w3.org/2006/vcard/ns#fn</th>\n",
       "      <th>http://www.w3.org/1999/02/22-rdf-syntax-ns#type_y</th>\n",
       "      <th>http://dbpedia.org/ontology#deathDate</th>\n",
       "      <th>http://dbpedia.org/ontology#name</th>\n",
       "      <th>http://dbpedia.org/ontology#birthDate</th>\n",
       "    </tr>\n",
       "  </thead>\n",
       "  <tbody>\n",
       "    <tr>\n",
       "      <th>0</th>\n",
       "      <td>Corks</td>\n",
       "      <td>2013-01-01</td>\n",
       "      <td>http://www.w3.org/2006/vcard/ns#VCard</td>\n",
       "      <td>mailto:corky@example.com</td>\n",
       "      <td>Corky Crystal</td>\n",
       "      <td>http://dbpedia.org/ontology#Person</td>\n",
       "      <td>2020-03-03</td>\n",
       "      <td>Corky Crystal</td>\n",
       "      <td>2013-01-01</td>\n",
       "    </tr>\n",
       "    <tr>\n",
       "      <th>1</th>\n",
       "      <td>Vinker</td>\n",
       "      <td>2001-02-02</td>\n",
       "      <td>http://www.w3.org/2006/vcard/ns#VCard</td>\n",
       "      <td>mailto:vinko@example.com</td>\n",
       "      <td>Vinko Vork</td>\n",
       "      <td>http://dbpedia.org/ontology#Person</td>\n",
       "      <td>2020-03-03</td>\n",
       "      <td>Vinko Vork</td>\n",
       "      <td>2001-02-02</td>\n",
       "    </tr>\n",
       "  </tbody>\n",
       "</table>\n",
       "</div>"
      ],
      "text/plain": [
       "  http://www.w3.org/2006/vcard/ns#nickname  \\\n",
       "0                                    Corks   \n",
       "1                                   Vinker   \n",
       "\n",
       "  http://www.w3.org/2006/vcard/ns#bday  \\\n",
       "0                           2013-01-01   \n",
       "1                           2001-02-02   \n",
       "\n",
       "  http://www.w3.org/1999/02/22-rdf-syntax-ns#type_x  \\\n",
       "0             http://www.w3.org/2006/vcard/ns#VCard   \n",
       "1             http://www.w3.org/2006/vcard/ns#VCard   \n",
       "\n",
       "  http://www.w3.org/2006/vcard/ns#email http://www.w3.org/2006/vcard/ns#fn  \\\n",
       "0              mailto:corky@example.com                      Corky Crystal   \n",
       "1              mailto:vinko@example.com                         Vinko Vork   \n",
       "\n",
       "  http://www.w3.org/1999/02/22-rdf-syntax-ns#type_y  \\\n",
       "0                http://dbpedia.org/ontology#Person   \n",
       "1                http://dbpedia.org/ontology#Person   \n",
       "\n",
       "  http://dbpedia.org/ontology#deathDate http://dbpedia.org/ontology#name  \\\n",
       "0                            2020-03-03                    Corky Crystal   \n",
       "1                            2020-03-03                       Vinko Vork   \n",
       "\n",
       "  http://dbpedia.org/ontology#birthDate  \n",
       "0                            2013-01-01  \n",
       "1                            2001-02-02  "
      ]
     },
     "execution_count": 39,
     "metadata": {},
     "output_type": "execute_result"
    }
   ],
   "source": [
    "client.query(left_on=['http://www.w3.org/2006/vcard/ns#fn', 'http://www.w3.org/2006/vcard/ns#bday'],\n",
    "             right_on=['http://dbpedia.org/ontology#name', 'http://dbpedia.org/ontology#birthDate'])"
   ]
  }
 ],
 "metadata": {
  "kernelspec": {
   "display_name": "Python 3",
   "language": "python",
   "name": "python3"
  },
  "language_info": {
   "codemirror_mode": {
    "name": "ipython",
    "version": 3
   },
   "file_extension": ".py",
   "mimetype": "text/x-python",
   "name": "python",
   "nbconvert_exporter": "python",
   "pygments_lexer": "ipython3",
   "version": "3.6.10"
  }
 },
 "nbformat": 4,
 "nbformat_minor": 4
}
